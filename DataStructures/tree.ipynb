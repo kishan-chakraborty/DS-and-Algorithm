{
 "cells": [
  {
   "cell_type": "code",
   "execution_count": null,
   "metadata": {},
   "outputs": [],
   "source": [
    "# Binary trees\n",
    "# Create the following binary tree\n",
    "\"\"\"\n",
    "        1\n",
    "        /\\\n",
    "       /  \\\n",
    "      2    3\n",
    "     /\\    /\\\n",
    "    /  \\  /  \\\n",
    "   4   5 6    7\n",
    "  /\\   | |    /\\\n",
    " /  \\  | |   /  \\\n",
    " 8  9 10 11 12  13\n",
    "\"\"\""
   ]
  },
  {
   "cell_type": "code",
   "execution_count": 2,
   "metadata": {},
   "outputs": [],
   "source": [
    "class BTNode():\n",
    "    def __init__(self, data:  int):\n",
    "        self.data = data\n",
    "        self.right = None\n",
    "        self.left = None"
   ]
  },
  {
   "cell_type": "code",
   "execution_count": 4,
   "metadata": {},
   "outputs": [],
   "source": [
    "# Creating and inserting BT nodes to build the above tree\n",
    "n1 = BTNode(1)\n",
    "\n",
    "n2 = BTNode(2)\n",
    "n3 = BTNode(3)\n",
    "n1.left = n2\n",
    "n1.right = n3\n",
    "\n",
    "n4 = BTNode(4)\n",
    "n5 = BTNode(5)\n",
    "n2.left = n4\n",
    "n2.right = n5\n",
    "\n",
    "n6 = BTNode(6)\n",
    "n7 = BTNode(7)\n",
    "n3.left = n6\n",
    "n3.right = n7\n",
    "\n",
    "n8 = BTNode(8)\n",
    "n9 = BTNode(9)\n",
    "n4.left = n8\n",
    "n4.right = n9\n",
    "\n",
    "n10 = BTNode(10)\n",
    "n5.left = n10\n",
    "\n",
    "n11 = BTNode(11)\n",
    "n6.right = n11\n",
    "\n",
    "n12 = BTNode(12)\n",
    "n13 = BTNode(13)\n",
    "n7.left = n12\n",
    "n7.right = n13"
   ]
  },
  {
   "cell_type": "code",
   "execution_count": 7,
   "metadata": {},
   "outputs": [],
   "source": [
    "# Pre-order traversal. root -> left -> right\n",
    "def preorder(root):\n",
    "    if root is None:\n",
    "        return\n",
    "    else:\n",
    "        print(f'{root.data}-->', end=' ')\n",
    "        preorder(root.left)\n",
    "        preorder(root.right)"
   ]
  },
  {
   "cell_type": "code",
   "execution_count": 8,
   "metadata": {},
   "outputs": [
    {
     "name": "stdout",
     "output_type": "stream",
     "text": [
      "1--> 2--> 4--> 8--> 9--> 5--> 10--> 3--> 6--> 11--> 7--> 12--> 13--> "
     ]
    }
   ],
   "source": [
    "# Testing preorder traversal\n",
    "preorder(n1)"
   ]
  },
  {
   "cell_type": "code",
   "execution_count": 12,
   "metadata": {},
   "outputs": [],
   "source": [
    "# In-order traversal. left -> root -> right\n",
    "def inorder(root):\n",
    "    if root is None:\n",
    "        return\n",
    "    else:\n",
    "        inorder(root.left)\n",
    "        print(f'{root.data}-->', end=' ')\n",
    "        inorder(root.right)"
   ]
  },
  {
   "cell_type": "code",
   "execution_count": 13,
   "metadata": {},
   "outputs": [
    {
     "name": "stdout",
     "output_type": "stream",
     "text": [
      "8--> 4--> 9--> 2--> 10--> 5--> 1--> 6--> 11--> 3--> 12--> 7--> 13--> "
     ]
    }
   ],
   "source": [
    "# Testing inorder traversal\n",
    "inorder(n1)"
   ]
  },
  {
   "cell_type": "code",
   "execution_count": 16,
   "metadata": {},
   "outputs": [],
   "source": [
    "# Post-order traversal. left->right->node\n",
    "def postorder(root):\n",
    "    if root is None:\n",
    "        return\n",
    "    else:\n",
    "        postorder(root.left)\n",
    "        postorder(root.right)\n",
    "        print(f'{root.data}-->', end=' ')"
   ]
  },
  {
   "cell_type": "code",
   "execution_count": 17,
   "metadata": {},
   "outputs": [
    {
     "name": "stdout",
     "output_type": "stream",
     "text": [
      "8--> 9--> 4--> 10--> 5--> 2--> 11--> 6--> 12--> 13--> 7--> 3--> 1--> "
     ]
    }
   ],
   "source": [
    "# Testing inorder traversal\n",
    "postorder(n1)"
   ]
  },
  {
   "cell_type": "code",
   "execution_count": 50,
   "metadata": {},
   "outputs": [],
   "source": [
    "# Count number of nodes in a binary tree\n",
    "def count_nodes(root):\n",
    "    if root is None:\n",
    "        return 0\n",
    "    else:\n",
    "        left_count = count_nodes(root.left)\n",
    "        right_count = count_nodes(root.right)\n",
    "        return 1 + left_count + right_count"
   ]
  },
  {
   "cell_type": "code",
   "execution_count": 51,
   "metadata": {},
   "outputs": [
    {
     "name": "stdout",
     "output_type": "stream",
     "text": [
      "no. of nodes in the binary tree: 13\n"
     ]
    }
   ],
   "source": [
    "# Testing node count\n",
    "print('no. of nodes in the binary tree:', count_nodes(n1))\n",
    "# Try writing the recurson tree, the code becomes easy"
   ]
  },
  {
   "cell_type": "code",
   "execution_count": 59,
   "metadata": {},
   "outputs": [],
   "source": [
    "# calculate the height of a binary tree\n",
    "def find_height(root: BTNode):\n",
    "    if root is None:\n",
    "        return -1\n",
    "    else:\n",
    "        left_tree_height = find_height(root.left)\n",
    "        right_tree_height = find_height(root.right)\n",
    "        return 1 + max(left_tree_height, right_tree_height)"
   ]
  },
  {
   "cell_type": "code",
   "execution_count": 60,
   "metadata": {},
   "outputs": [
    {
     "name": "stdout",
     "output_type": "stream",
     "text": [
      "no. of nodes in the binary tree: 2\n"
     ]
    }
   ],
   "source": [
    "# Testing binary tree height\n",
    "print('no. of nodes in the binary tree:', find_height(n3))\n",
    "# Try writing the recurson tree, the code becomes easy"
   ]
  },
  {
   "cell_type": "code",
   "execution_count": 79,
   "metadata": {},
   "outputs": [],
   "source": [
    "# Is the data at the root node equal to sum of right sub tree and left sub tree\n",
    "def isEqualSum(root: BTNode):\n",
    "    if root is None:\n",
    "        return 0\n",
    "    else:\n",
    "        left_sum = isEqualSum(root.left)\n",
    "        right_sum = isEqualSum(root.right)\n",
    "\n",
    "        if root.left is None and root.right is None:\n",
    "            return left_sum + right_sum + root.data\n",
    "        else:\n",
    "            if root.data == left_sum + right_sum:\n",
    "                print(root.data)\n",
    "                return root.data + left_sum + right_sum\n",
    "            else:\n",
    "                return root.data + left_sum + right_sum"
   ]
  },
  {
   "cell_type": "code",
   "execution_count": 84,
   "metadata": {},
   "outputs": [],
   "source": [
    "bt11 = BTNode(4)\n",
    "bt12 = BTNode(2)\n",
    "bt13 = BTNode(2)\n",
    "bt14 = BTNode(2)\n",
    "bt11.left = bt12\n",
    "bt11.right = bt13\n",
    "bt12.left = bt14"
   ]
  },
  {
   "cell_type": "code",
   "execution_count": 85,
   "metadata": {},
   "outputs": [
    {
     "name": "stdout",
     "output_type": "stream",
     "text": [
      "2\n"
     ]
    },
    {
     "data": {
      "text/plain": [
       "10"
      ]
     },
     "execution_count": 85,
     "metadata": {},
     "output_type": "execute_result"
    }
   ],
   "source": [
    "isEqualSum(bt11)"
   ]
  },
  {
   "cell_type": "code",
   "execution_count": 107,
   "metadata": {},
   "outputs": [
    {
     "ename": "SyntaxError",
     "evalue": "incomplete input (188102367.py, line 14)",
     "output_type": "error",
     "traceback": [
      "\u001b[0;36m  Cell \u001b[0;32mIn[107], line 14\u001b[0;36m\u001b[0m\n\u001b[0;31m    #     return 0\u001b[0m\n\u001b[0m                  ^\u001b[0m\n\u001b[0;31mSyntaxError\u001b[0m\u001b[0;31m:\u001b[0m incomplete input\n"
     ]
    }
   ],
   "source": [
    "# Is all nodes are sum of its child nodes?. return 1 if true else false. Ignore leaf and None nodes.\n",
    "def isChildSum(root: BTNode):\n",
    "    if root is None:\n",
    "        return 0\n",
    "    elif root.left is None and root.right is None:\n",
    "        return root.data\n",
    "    else:\n",
    "        left_node = isChildSum(root.left)\n",
    "        right_node = isChildSum(root.right)\n",
    "        print(root.data)\n",
    "        if left_node + right_node == root.data:\n",
    "            print(root.data)\n",
    "        else:\n",
    "            return 0"
   ]
  },
  {
   "cell_type": "code",
   "execution_count": 105,
   "metadata": {},
   "outputs": [],
   "source": [
    "bt21 = BTNode(4)\n",
    "bt22 = BTNode(2)\n",
    "bt23 = BTNode(2)\n",
    "bt24 = BTNode(1)\n",
    "bt25 = BTNode(1)\n",
    "bt21.left = bt22\n",
    "bt21.right = bt23\n",
    "bt22.left = bt24\n",
    "bt22.right = bt25"
   ]
  },
  {
   "cell_type": "code",
   "execution_count": 106,
   "metadata": {},
   "outputs": [
    {
     "name": "stdout",
     "output_type": "stream",
     "text": [
      "2\n",
      "2\n",
      "4\n"
     ]
    },
    {
     "ename": "TypeError",
     "evalue": "unsupported operand type(s) for +: 'NoneType' and 'int'",
     "output_type": "error",
     "traceback": [
      "\u001b[0;31m---------------------------------------------------------------------------\u001b[0m",
      "\u001b[0;31mTypeError\u001b[0m                                 Traceback (most recent call last)",
      "\u001b[1;32m/home/kishan/Desktop/GATE/Python/tree.ipynb Cell 19\u001b[0m line \u001b[0;36m1\n\u001b[0;32m----> <a href='vscode-notebook-cell:/home/kishan/Desktop/GATE/Python/tree.ipynb#X30sZmlsZQ%3D%3D?line=0'>1</a>\u001b[0m isChildSum(bt21)\n",
      "\u001b[1;32m/home/kishan/Desktop/GATE/Python/tree.ipynb Cell 19\u001b[0m line \u001b[0;36m1\n\u001b[1;32m      <a href='vscode-notebook-cell:/home/kishan/Desktop/GATE/Python/tree.ipynb#X30sZmlsZQ%3D%3D?line=8'>9</a>\u001b[0m right_node \u001b[39m=\u001b[39m isChildSum(root\u001b[39m.\u001b[39mright)\n\u001b[1;32m     <a href='vscode-notebook-cell:/home/kishan/Desktop/GATE/Python/tree.ipynb#X30sZmlsZQ%3D%3D?line=9'>10</a>\u001b[0m \u001b[39mprint\u001b[39m(root\u001b[39m.\u001b[39mdata)\n\u001b[0;32m---> <a href='vscode-notebook-cell:/home/kishan/Desktop/GATE/Python/tree.ipynb#X30sZmlsZQ%3D%3D?line=10'>11</a>\u001b[0m \u001b[39mif\u001b[39;00m left_node \u001b[39m+\u001b[39;49m right_node \u001b[39m==\u001b[39m root\u001b[39m.\u001b[39mdata:\n\u001b[1;32m     <a href='vscode-notebook-cell:/home/kishan/Desktop/GATE/Python/tree.ipynb#X30sZmlsZQ%3D%3D?line=11'>12</a>\u001b[0m     \u001b[39mprint\u001b[39m(root\u001b[39m.\u001b[39mdata)\n\u001b[1;32m     <a href='vscode-notebook-cell:/home/kishan/Desktop/GATE/Python/tree.ipynb#X30sZmlsZQ%3D%3D?line=12'>13</a>\u001b[0m \u001b[39melse\u001b[39;00m:\n",
      "\u001b[0;31mTypeError\u001b[0m: unsupported operand type(s) for +: 'NoneType' and 'int'"
     ]
    }
   ],
   "source": [
    "isChildSum(bt21)"
   ]
  },
  {
   "cell_type": "code",
   "execution_count": null,
   "metadata": {},
   "outputs": [],
   "source": []
  }
 ],
 "metadata": {
  "kernelspec": {
   "display_name": "Python 3",
   "language": "python",
   "name": "python3"
  },
  "language_info": {
   "codemirror_mode": {
    "name": "ipython",
    "version": 3
   },
   "file_extension": ".py",
   "mimetype": "text/x-python",
   "name": "python",
   "nbconvert_exporter": "python",
   "pygments_lexer": "ipython3",
   "version": "3.10.12"
  }
 },
 "nbformat": 4,
 "nbformat_minor": 2
}
