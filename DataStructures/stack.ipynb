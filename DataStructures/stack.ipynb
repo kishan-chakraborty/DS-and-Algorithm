{
 "cells": [
  {
   "cell_type": "code",
   "execution_count": 13,
   "metadata": {},
   "outputs": [],
   "source": [
    "# Implementing stack using list\n",
    "\n",
    "class stack:\n",
    "    def __init__(self):\n",
    "        self.__array = []   # Keep the list private from user\n",
    "\n",
    "    def push(self, data):\n",
    "        self.__array.append(data)\n",
    "\n",
    "    def pop(self):\n",
    "        if self.isEmpty():\n",
    "            print('No element found')\n",
    "            return\n",
    "        return self.__array.pop()\n",
    "\n",
    "    def isEmpty(self):\n",
    "        return self.size() == 0\n",
    "\n",
    "    def top(self):\n",
    "        if self.isEmpty():\n",
    "            print('No element found')\n",
    "            return\n",
    "        return self.__array[-1]\n",
    "    \n",
    "    def size(self):\n",
    "        return len(self.__array)"
   ]
  },
  {
   "cell_type": "code",
   "execution_count": 15,
   "metadata": {},
   "outputs": [],
   "source": [
    "s1 = stack()\n",
    "s1.push(10)\n",
    "s1.push(20)"
   ]
  },
  {
   "cell_type": "code",
   "execution_count": 17,
   "metadata": {},
   "outputs": [
    {
     "name": "stdout",
     "output_type": "stream",
     "text": [
      "10\n",
      "No element found\n",
      "None\n",
      "No element found\n",
      "None\n"
     ]
    }
   ],
   "source": [
    "print(s1.pop())\n",
    "print(s1.pop())\n",
    "print(s1.pop())"
   ]
  },
  {
   "cell_type": "code",
   "execution_count": 18,
   "metadata": {},
   "outputs": [
    {
     "name": "stdout",
     "output_type": "stream",
     "text": [
      "10\n"
     ]
    }
   ],
   "source": [
    "s1.push(10)\n",
    "print(s1.top())"
   ]
  }
 ],
 "metadata": {
  "kernelspec": {
   "display_name": "Python 3",
   "language": "python",
   "name": "python3"
  },
  "language_info": {
   "codemirror_mode": {
    "name": "ipython",
    "version": 3
   },
   "file_extension": ".py",
   "mimetype": "text/x-python",
   "name": "python",
   "nbconvert_exporter": "python",
   "pygments_lexer": "ipython3",
   "version": "3.10.12"
  },
  "orig_nbformat": 4
 },
 "nbformat": 4,
 "nbformat_minor": 2
}
