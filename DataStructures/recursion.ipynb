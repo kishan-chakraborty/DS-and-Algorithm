{
 "cells": [
  {
   "cell_type": "code",
   "execution_count": 1,
   "metadata": {},
   "outputs": [],
   "source": [
    "# Solving using recursion\n",
    "# 1. Sum of digits using recursion\n",
    "def digit_sum(n):\n",
    "    if (n//10 == 0):\n",
    "        return n\n",
    "    else:\n",
    "        return n%10 + digit_sum(n//10)"
   ]
  },
  {
   "cell_type": "code",
   "execution_count": 9,
   "metadata": {},
   "outputs": [
    {
     "name": "stdout",
     "output_type": "stream",
     "text": [
      "0\n"
     ]
    }
   ],
   "source": [
    "print(digit_sum(0))"
   ]
  },
  {
   "cell_type": "code",
   "execution_count": 13,
   "metadata": {},
   "outputs": [],
   "source": [
    "#Print the binary representation using recursion\n",
    "def print_binary(n: int):\n",
    "    if n//2 == 0:\n",
    "        print(n)\n",
    "    else:\n",
    "        print_binary(n//2)\n",
    "        print(n%2)"
   ]
  },
  {
   "cell_type": "code",
   "execution_count": 14,
   "metadata": {},
   "outputs": [
    {
     "name": "stdout",
     "output_type": "stream",
     "text": [
      "1\n",
      "0\n",
      "0\n",
      "0\n"
     ]
    }
   ],
   "source": [
    "print_binary(8)"
   ]
  },
  {
   "cell_type": "code",
   "execution_count": 19,
   "metadata": {},
   "outputs": [],
   "source": [
    "# Tower of Hanoi\n",
    "\n",
    "def TOH(n: int, source: str, destination: str, helper: str):\n",
    "    if (n == 1):\n",
    "        print(f'{source} --> {destination}')  # Move the last disk from source to destnation\n",
    "    else:\n",
    "        TOH(n-1, source, helper, destination)               # Move the top n-1 plates from source to helper using destination as helper.\n",
    "        print(f'{source} --> {destination}')  # Now move the last plate from source to destination\n",
    "        TOH(n-1, helper, destination, source)               # Now move the disk at helper to destination using source as a helper"
   ]
  },
  {
   "cell_type": "code",
   "execution_count": 20,
   "metadata": {},
   "outputs": [
    {
     "name": "stdout",
     "output_type": "stream",
     "text": [
      "S --> D\n",
      "S --> H\n",
      "D --> H\n",
      "S --> D\n",
      "H --> S\n",
      "H --> D\n",
      "S --> D\n"
     ]
    }
   ],
   "source": [
    "source = 'S'\n",
    "destination = 'D'\n",
    "helper = 'H'\n",
    "TOH(3, source, destination, helper)"
   ]
  },
  {
   "cell_type": "code",
   "execution_count": null,
   "metadata": {},
   "outputs": [],
   "source": []
  }
 ],
 "metadata": {
  "kernelspec": {
   "display_name": "Python 3",
   "language": "python",
   "name": "python3"
  },
  "language_info": {
   "codemirror_mode": {
    "name": "ipython",
    "version": 3
   },
   "file_extension": ".py",
   "mimetype": "text/x-python",
   "name": "python",
   "nbconvert_exporter": "python",
   "pygments_lexer": "ipython3",
   "version": "3.10.12"
  }
 },
 "nbformat": 4,
 "nbformat_minor": 2
}
