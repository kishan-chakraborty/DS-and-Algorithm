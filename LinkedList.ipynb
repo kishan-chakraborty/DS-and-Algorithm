{
 "cells": [
  {
   "cell_type": "code",
   "execution_count": 6,
   "metadata": {},
   "outputs": [],
   "source": [
    "# Class of node\n",
    "class Node:\n",
    "    def __init__(self, data):\n",
    "        self.data = data\n",
    "        self.next = None"
   ]
  },
  {
   "cell_type": "code",
   "execution_count": 1,
   "metadata": {},
   "outputs": [],
   "source": [
    "# Create a linked list\n",
    "\n",
    "def create(l=[1,2,3,4]):\n",
    "    head = Node(l[0])\n",
    "    tail = head\n",
    "\n",
    "    for num in l[1:]:\n",
    "        n = Node(num)\n",
    "        tail.next = n\n",
    "        tail = tail.next\n",
    "\n",
    "    return head"
   ]
  },
  {
   "cell_type": "code",
   "execution_count": 3,
   "metadata": {},
   "outputs": [],
   "source": [
    "# Traversing through a linked list\n",
    "\n",
    "def traverse(head):\n",
    "    current = head\n",
    "\n",
    "    while(current):\n",
    "        print(current.data, ' --> ', end='')\n",
    "        current = current.next\n",
    "    print('None')"
   ]
  },
  {
   "cell_type": "code",
   "execution_count": 52,
   "metadata": {},
   "outputs": [],
   "source": [
    "ll = create()"
   ]
  },
  {
   "cell_type": "code",
   "execution_count": 53,
   "metadata": {},
   "outputs": [
    {
     "name": "stdout",
     "output_type": "stream",
     "text": [
      "<__main__.Node object at 0x7f357b0f4a60>\n"
     ]
    }
   ],
   "source": [
    "print(ll)"
   ]
  },
  {
   "cell_type": "code",
   "execution_count": 54,
   "metadata": {},
   "outputs": [
    {
     "name": "stdout",
     "output_type": "stream",
     "text": [
      "None\n"
     ]
    }
   ],
   "source": [
    "traverse(None)"
   ]
  },
  {
   "cell_type": "code",
   "execution_count": 57,
   "metadata": {},
   "outputs": [
    {
     "name": "stdout",
     "output_type": "stream",
     "text": [
      "1  --> 2  --> 3  --> 4  --> None\n"
     ]
    }
   ],
   "source": [
    "traverse(ll)"
   ]
  },
  {
   "cell_type": "code",
   "execution_count": 55,
   "metadata": {},
   "outputs": [],
   "source": [
    "# Print last node data\n",
    "\n",
    "def last_node(head):\n",
    "    current = head\n",
    "    if current is None:\n",
    "        return\n",
    "    else:\n",
    "        while(current.next is not None):\n",
    "            current = current.next\n",
    "        print(current.data)"
   ]
  },
  {
   "cell_type": "code",
   "execution_count": 56,
   "metadata": {},
   "outputs": [
    {
     "name": "stdout",
     "output_type": "stream",
     "text": [
      "4\n"
     ]
    }
   ],
   "source": [
    "last_node(ll)"
   ]
  },
  {
   "cell_type": "code",
   "execution_count": 58,
   "metadata": {},
   "outputs": [],
   "source": [
    "# Print second last node data\n",
    "\n",
    "def second_last_node(head):\n",
    "    current = head\n",
    "    if current is None:\n",
    "        return\n",
    "    elif current.next is None:\n",
    "        return\n",
    "    else:\n",
    "        while(current.next.next is not None):\n",
    "            current = current.next\n",
    "        print(current.data)"
   ]
  },
  {
   "cell_type": "code",
   "execution_count": 59,
   "metadata": {},
   "outputs": [
    {
     "name": "stdout",
     "output_type": "stream",
     "text": [
      "3\n"
     ]
    }
   ],
   "source": [
    "second_last_node(ll)"
   ]
  },
  {
   "cell_type": "code",
   "execution_count": 60,
   "metadata": {},
   "outputs": [],
   "source": [
    "# Count number of nodes\n",
    "\n",
    "def count_nodes(head):\n",
    "    current = head\n",
    "    count = 0\n",
    "    if current is None:\n",
    "        print(count)\n",
    "    else:\n",
    "        while current is not None:\n",
    "            count += 1\n",
    "            current = current.next\n",
    "        print(count)"
   ]
  },
  {
   "cell_type": "code",
   "execution_count": 61,
   "metadata": {},
   "outputs": [
    {
     "name": "stdout",
     "output_type": "stream",
     "text": [
      "4\n"
     ]
    }
   ],
   "source": [
    "count_nodes(ll)"
   ]
  },
  {
   "cell_type": "code",
   "execution_count": 62,
   "metadata": {},
   "outputs": [],
   "source": [
    "# Search an element in a Linked List\n",
    "\n",
    "def search_linked_list(head, ele):\n",
    "    curr = head\n",
    "\n",
    "    while curr is not None:\n",
    "        if curr.data == ele:\n",
    "            return True\n",
    "        curr = curr.next\n",
    "\n",
    "    return False"
   ]
  },
  {
   "cell_type": "code",
   "execution_count": 63,
   "metadata": {},
   "outputs": [
    {
     "data": {
      "text/plain": [
       "False"
      ]
     },
     "execution_count": 63,
     "metadata": {},
     "output_type": "execute_result"
    }
   ],
   "source": [
    "search_linked_list(None, 1)"
   ]
  },
  {
   "cell_type": "code",
   "execution_count": 64,
   "metadata": {},
   "outputs": [
    {
     "data": {
      "text/plain": [
       "True"
      ]
     },
     "execution_count": 64,
     "metadata": {},
     "output_type": "execute_result"
    }
   ],
   "source": [
    "search_linked_list(ll, 2)"
   ]
  },
  {
   "cell_type": "code",
   "execution_count": 65,
   "metadata": {},
   "outputs": [
    {
     "data": {
      "text/plain": [
       "False"
      ]
     },
     "execution_count": 65,
     "metadata": {},
     "output_type": "execute_result"
    }
   ],
   "source": [
    "search_linked_list(ll, 10)"
   ]
  },
  {
   "cell_type": "code",
   "execution_count": 66,
   "metadata": {},
   "outputs": [],
   "source": [
    "# Pairwie data swap\n",
    "\n",
    "def swap_node_pair(head):\n",
    "    curr = head\n",
    "    if curr is None:\n",
    "        return None\n",
    "    else:\n",
    "        while curr is not None:\n",
    "            if curr.next is not None:\n",
    "                temp = curr.next.data\n",
    "                curr.next.data = curr.data\n",
    "                curr.data = temp\n",
    "            \n",
    "                curr = curr.next.next\n",
    "            else:\n",
    "                return head\n",
    "        return head\n"
   ]
  },
  {
   "cell_type": "code",
   "execution_count": 67,
   "metadata": {},
   "outputs": [
    {
     "name": "stdout",
     "output_type": "stream",
     "text": [
      "1  --> 2  --> 3  --> 4  --> None\n",
      "2  --> 1  --> 4  --> 3  --> None\n"
     ]
    }
   ],
   "source": [
    "traverse(ll)\n",
    "pair_swap_ll = swap_node_pair(ll)\n",
    "traverse(ll)"
   ]
  },
  {
   "cell_type": "code",
   "execution_count": 68,
   "metadata": {},
   "outputs": [
    {
     "name": "stdout",
     "output_type": "stream",
     "text": [
      "1  --> 2  --> 3  --> None\n",
      "2  --> 1  --> 3  --> None\n"
     ]
    }
   ],
   "source": [
    "ll1 = create([1,2,3])\n",
    "traverse(ll1)\n",
    "swap_node_pair(ll1)\n",
    "traverse(ll1)"
   ]
  },
  {
   "cell_type": "code",
   "execution_count": 84,
   "metadata": {},
   "outputs": [],
   "source": [
    "# Reverse a linked list\n",
    "\n",
    "def reverse_linked_list(head):\n",
    "    current = head\n",
    "    if current is None:\n",
    "        return None\n",
    "    else:\n",
    "        head1 = current\n",
    "        head2 = current.next\n",
    "        \n",
    "        while head2:\n",
    "            temp = head2.next\n",
    "            head2.next = head1\n",
    "            head1 = head2\n",
    "            head2 = temp\n",
    "\n",
    "        current = head1\n",
    "    head.next = None\n",
    "    return current"
   ]
  },
  {
   "cell_type": "code",
   "execution_count": 88,
   "metadata": {},
   "outputs": [
    {
     "name": "stdout",
     "output_type": "stream",
     "text": [
      "1  --> 2  --> 3  --> 4  --> None\n",
      "4  --> 3  --> 2  --> 1  --> None\n"
     ]
    }
   ],
   "source": [
    "ll2 = create([1, 2, 3, 4])\n",
    "traverse(ll2)\n",
    "ll2_reversed = reverse_linked_list(ll2)\n",
    "traverse(ll2_reversed)"
   ]
  },
  {
   "cell_type": "code",
   "execution_count": 89,
   "metadata": {},
   "outputs": [],
   "source": [
    "# Insert at beginning\n",
    "\n",
    "def insert_begining(head, data):\n",
    "    node = Node(data)\n",
    "    node.next = head\n",
    "\n",
    "    return node"
   ]
  },
  {
   "cell_type": "code",
   "execution_count": 90,
   "metadata": {},
   "outputs": [
    {
     "name": "stdout",
     "output_type": "stream",
     "text": [
      "1  --> 2  --> 3  --> None\n",
      "10  --> 1  --> 2  --> 3  --> None\n"
     ]
    }
   ],
   "source": [
    "ll3 = create([1, 2, 3])\n",
    "traverse(ll3)\n",
    "ll4 = insert_begining(ll3, 10)\n",
    "traverse(ll4)"
   ]
  },
  {
   "cell_type": "code",
   "execution_count": 95,
   "metadata": {},
   "outputs": [],
   "source": [
    "# Insert at k\n",
    "\n",
    "def insert_at_k(head, k, data):\n",
    "    node = Node(data)\n",
    "    head1 = head\n",
    "\n",
    "    for _ in range(1, k-1):\n",
    "        head1 = head1.next\n",
    "    \n",
    "    node.next = head1.next\n",
    "    head1.next = node\n",
    "    return head1"
   ]
  },
  {
   "cell_type": "code",
   "execution_count": 97,
   "metadata": {},
   "outputs": [
    {
     "name": "stdout",
     "output_type": "stream",
     "text": [
      "1  --> 2  --> 3  --> None\n",
      "1  --> 10  --> 2  --> 3  --> None\n"
     ]
    }
   ],
   "source": [
    "ll5 = create([1, 2, 3])\n",
    "traverse(ll3)\n",
    "ll6 = insert_at_k(ll5, 2, 10)\n",
    "traverse(ll6)"
   ]
  },
  {
   "cell_type": "code",
   "execution_count": 10,
   "metadata": {},
   "outputs": [],
   "source": [
    "# Reverse a linked list\n",
    "def reverse_ll(head):\n",
    "    first = head\n",
    "    second = head.next  # Assuming at least 2 nodes\n",
    "    first.next = None\n",
    "    while(second.next):\n",
    "        temp = second.next\n",
    "        second.next = first\n",
    "        first = second\n",
    "        second = temp\n",
    "    second.next = first\n",
    "    head = second\n",
    "\n",
    "    return head"
   ]
  },
  {
   "cell_type": "code",
   "execution_count": 11,
   "metadata": {},
   "outputs": [
    {
     "name": "stdout",
     "output_type": "stream",
     "text": [
      "1  --> 2  --> 3  --> 4  --> None\n",
      "4  --> 3  --> 2  --> 1  --> None\n"
     ]
    }
   ],
   "source": [
    "ll3 = create()\n",
    "traverse(ll3)\n",
    "ll3_reversed = reverse_ll(ll3)\n",
    "traverse(ll3_reversed)"
   ]
  },
  {
   "cell_type": "code",
   "execution_count": null,
   "metadata": {},
   "outputs": [],
   "source": []
  }
 ],
 "metadata": {
  "kernelspec": {
   "display_name": "Python 3",
   "language": "python",
   "name": "python3"
  },
  "language_info": {
   "codemirror_mode": {
    "name": "ipython",
    "version": 3
   },
   "file_extension": ".py",
   "mimetype": "text/x-python",
   "name": "python",
   "nbconvert_exporter": "python",
   "pygments_lexer": "ipython3",
   "version": "3.10.12"
  },
  "orig_nbformat": 4
 },
 "nbformat": 4,
 "nbformat_minor": 2
}
