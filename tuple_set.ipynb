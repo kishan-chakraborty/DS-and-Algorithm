{
 "cells": [
  {
   "cell_type": "code",
   "execution_count": 3,
   "metadata": {},
   "outputs": [
    {
     "name": "stdout",
     "output_type": "stream",
     "text": [
      "<class 'int'>\n",
      "<class 'tuple'>\n"
     ]
    }
   ],
   "source": [
    "# Expressing a tuple\n",
    "print(type((10)))\n",
    "print(type((10,)))"
   ]
  },
  {
   "cell_type": "code",
   "execution_count": 4,
   "metadata": {},
   "outputs": [
    {
     "data": {
      "text/plain": [
       "(10, 20, 10, 20)"
      ]
     },
     "execution_count": 4,
     "metadata": {},
     "output_type": "execute_result"
    }
   ],
   "source": [
    "a = (10, 20)\n",
    "a*2"
   ]
  },
  {
   "cell_type": "code",
   "execution_count": 21,
   "metadata": {},
   "outputs": [
    {
     "name": "stdout",
     "output_type": "stream",
     "text": [
      "139645269643264\n",
      "139645269643264\n",
      "139645265240816\n"
     ]
    }
   ],
   "source": [
    "# Immutability of tuple\n",
    "a = (10, 20)\n",
    "print(id(a))\n",
    "b = a\n",
    "print(id(b))\n",
    "c = a+b\n",
    "print(id(c))"
   ]
  },
  {
   "cell_type": "code",
   "execution_count": 22,
   "metadata": {},
   "outputs": [
    {
     "data": {
      "text/plain": [
       "False"
      ]
     },
     "execution_count": 22,
     "metadata": {},
     "output_type": "execute_result"
    }
   ],
   "source": [
    "# Tuple is ordred\n",
    "a = (10, 20)\n",
    "b = (20, 10)\n",
    "a == b"
   ]
  },
  {
   "cell_type": "code",
   "execution_count": 23,
   "metadata": {},
   "outputs": [
    {
     "name": "stdout",
     "output_type": "stream",
     "text": [
      "139645272722752 139645271221376\n"
     ]
    }
   ],
   "source": [
    "# Non Reusability\n",
    "a = (10, 20)\n",
    "b = (10, 20)\n",
    "print(id(a), id(b))"
   ]
  },
  {
   "cell_type": "markdown",
   "metadata": {},
   "source": [
    "# Sets"
   ]
  },
  {
   "cell_type": "code",
   "execution_count": 33,
   "metadata": {},
   "outputs": [
    {
     "name": "stdout",
     "output_type": "stream",
     "text": [
      "139645268313472\n",
      "139645268313472\n",
      "139645268313472\n"
     ]
    }
   ],
   "source": [
    "# Mutability\n",
    "a = {10, 20}\n",
    "print(id(a))\n",
    "a.pop()\n",
    "print(id(a))\n",
    "a.add(30)\n",
    "print(id(a))"
   ]
  },
  {
   "cell_type": "code",
   "execution_count": 28,
   "metadata": {},
   "outputs": [
    {
     "name": "stdout",
     "output_type": "stream",
     "text": [
      "139645267051232\n",
      "139645267057504\n"
     ]
    }
   ],
   "source": [
    "# Non-Reusability\n",
    "a = {10, 20}\n",
    "b = {10, 20}\n",
    "print(id(a))\n",
    "print(id(b))"
   ]
  },
  {
   "cell_type": "code",
   "execution_count": 41,
   "metadata": {},
   "outputs": [
    {
     "name": "stdout",
     "output_type": "stream",
     "text": [
      "a is updated to{20, 40, 10, 30},and id is 139645268313472\n"
     ]
    }
   ],
   "source": [
    "# add vs update\n",
    "# a.add({0,50})   # Throws error\n",
    "a.update({30, 40})\n",
    "print(f'a is updated to{a},and id is {id(a)}')"
   ]
  },
  {
   "cell_type": "code",
   "execution_count": null,
   "metadata": {},
   "outputs": [],
   "source": []
  }
 ],
 "metadata": {
  "kernelspec": {
   "display_name": "Python 3",
   "language": "python",
   "name": "python3"
  },
  "language_info": {
   "codemirror_mode": {
    "name": "ipython",
    "version": 3
   },
   "file_extension": ".py",
   "mimetype": "text/x-python",
   "name": "python",
   "nbconvert_exporter": "python",
   "pygments_lexer": "ipython3",
   "version": "3.10.12"
  },
  "orig_nbformat": 4
 },
 "nbformat": 4,
 "nbformat_minor": 2
}
