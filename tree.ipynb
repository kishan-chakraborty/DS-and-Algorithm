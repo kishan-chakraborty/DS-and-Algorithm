{
 "cells": [
  {
   "cell_type": "code",
   "execution_count": null,
   "metadata": {},
   "outputs": [],
   "source": [
    "# Binary trees\n",
    "# Create the following binary tree\n",
    "\"\"\"\n",
    "        1\n",
    "        /\\\n",
    "       /  \\\n",
    "      2    3\n",
    "     /\\    /\\\n",
    "    /  \\  /  \\\n",
    "   4   5 6    7\n",
    "  /\\   | |    /\\\n",
    " /  \\  | |   /  \\\n",
    " 8  9 10 11 12  13\n",
    "\"\"\""
   ]
  },
  {
   "cell_type": "code",
   "execution_count": 2,
   "metadata": {},
   "outputs": [],
   "source": [
    "class BTNode():\n",
    "    def __init__(self, data:  int):\n",
    "        self.data = data\n",
    "        self.right = None\n",
    "        self.left = None"
   ]
  },
  {
   "cell_type": "code",
   "execution_count": 4,
   "metadata": {},
   "outputs": [],
   "source": [
    "# Creating and inserting BT nodes to build the above tree\n",
    "n1 = BTNode(1)\n",
    "\n",
    "n2 = BTNode(2)\n",
    "n3 = BTNode(3)\n",
    "n1.left = n2\n",
    "n1.right = n3\n",
    "\n",
    "n4 = BTNode(4)\n",
    "n5 = BTNode(5)\n",
    "n2.left = n4\n",
    "n2.right = n5\n",
    "\n",
    "n6 = BTNode(6)\n",
    "n7 = BTNode(7)\n",
    "n3.left = n6\n",
    "n3.right = n7\n",
    "\n",
    "n8 = BTNode(8)\n",
    "n9 = BTNode(9)\n",
    "n4.left = n8\n",
    "n4.right = n9\n",
    "\n",
    "n10 = BTNode(10)\n",
    "n5.left = n10\n",
    "\n",
    "n11 = BTNode(11)\n",
    "n6.right = n11\n",
    "\n",
    "n12 = BTNode(12)\n",
    "n13 = BTNode(13)\n",
    "n7.left = n12\n",
    "n7.right = n13"
   ]
  },
  {
   "cell_type": "code",
   "execution_count": 7,
   "metadata": {},
   "outputs": [],
   "source": [
    "# Pre-order traversal. root -> left -> right\n",
    "def preorder(root):\n",
    "    if root is None:\n",
    "        return\n",
    "    else:\n",
    "        print(f'{root.data}-->', end=' ')\n",
    "        preorder(root.left)\n",
    "        preorder(root.right)"
   ]
  },
  {
   "cell_type": "code",
   "execution_count": 8,
   "metadata": {},
   "outputs": [
    {
     "name": "stdout",
     "output_type": "stream",
     "text": [
      "1--> 2--> 4--> 8--> 9--> 5--> 10--> 3--> 6--> 11--> 7--> 12--> 13--> "
     ]
    }
   ],
   "source": [
    "# Testing preorder traversal\n",
    "preorder(n1)"
   ]
  },
  {
   "cell_type": "code",
   "execution_count": 12,
   "metadata": {},
   "outputs": [],
   "source": [
    "# In-order traversal. left -> root -> right\n",
    "def inorder(root):\n",
    "    if root is None:\n",
    "        return\n",
    "    else:\n",
    "        inorder(root.left)\n",
    "        print(f'{root.data}-->', end=' ')\n",
    "        inorder(root.right)"
   ]
  },
  {
   "cell_type": "code",
   "execution_count": 13,
   "metadata": {},
   "outputs": [
    {
     "name": "stdout",
     "output_type": "stream",
     "text": [
      "8--> 4--> 9--> 2--> 10--> 5--> 1--> 6--> 11--> 3--> 12--> 7--> 13--> "
     ]
    }
   ],
   "source": [
    "# Testing inorder traversal\n",
    "inorder(n1)"
   ]
  },
  {
   "cell_type": "code",
   "execution_count": 16,
   "metadata": {},
   "outputs": [],
   "source": [
    "# Post-order traversal. left->right->node\n",
    "def postorder(root):\n",
    "    if root is None:\n",
    "        return\n",
    "    else:\n",
    "        postorder(root.left)\n",
    "        postorder(root.right)\n",
    "        print(f'{root.data}-->', end=' ')"
   ]
  },
  {
   "cell_type": "code",
   "execution_count": 17,
   "metadata": {},
   "outputs": [
    {
     "name": "stdout",
     "output_type": "stream",
     "text": [
      "8--> 9--> 4--> 10--> 5--> 2--> 11--> 6--> 12--> 13--> 7--> 3--> 1--> "
     ]
    }
   ],
   "source": [
    "# Testing inorder traversal\n",
    "postorder(n1)"
   ]
  },
  {
   "cell_type": "code",
   "execution_count": null,
   "metadata": {},
   "outputs": [],
   "source": []
  }
 ],
 "metadata": {
  "kernelspec": {
   "display_name": "Python 3",
   "language": "python",
   "name": "python3"
  },
  "language_info": {
   "codemirror_mode": {
    "name": "ipython",
    "version": 3
   },
   "file_extension": ".py",
   "mimetype": "text/x-python",
   "name": "python",
   "nbconvert_exporter": "python",
   "pygments_lexer": "ipython3",
   "version": "3.10.12"
  }
 },
 "nbformat": 4,
 "nbformat_minor": 2
}
