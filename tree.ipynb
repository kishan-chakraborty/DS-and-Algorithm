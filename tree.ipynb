{
 "cells": [
  {
   "cell_type": "code",
   "execution_count": null,
   "metadata": {},
   "outputs": [],
   "source": [
    "# Binary trees\n",
    "# Create the following binary tree\n",
    "\"\"\"\n",
    "        1\n",
    "        /\\\n",
    "       /  \\\n",
    "      2    3\n",
    "     /\\    /\\\n",
    "    /  \\  /  \\\n",
    "   4   5 6    7\n",
    "  /\\   | |    /\\\n",
    " /  \\  | |   /  \\\n",
    " 8  9 10 11 12  13\n",
    "\"\"\"\n",
    "\n"
   ]
  }
 ],
 "metadata": {
  "language_info": {
   "name": "python"
  }
 },
 "nbformat": 4,
 "nbformat_minor": 2
}
