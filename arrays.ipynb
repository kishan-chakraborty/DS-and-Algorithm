{
 "cells": [
  {
   "cell_type": "code",
   "execution_count": 9,
   "metadata": {},
   "outputs": [
    {
     "name": "stdout",
     "output_type": "stream",
     "text": [
      "Address of the list a 140153064056704\n",
      "Address of a[0] 140153415205104\n",
      "Address of a[1] 140153415205136\n",
      "Adress of a[2] 140153415205168\n",
      "Address of a[3] 140153415205200\n"
     ]
    }
   ],
   "source": [
    "# Address of lists\n",
    "a =  [1, 2, 3, 4]\n",
    "print('Address of the list a', id(a))\n",
    "print('Address of a[0]', id(a[0]))\n",
    "print('Address of a[1]', id(a[1]))\n",
    "print('Adress of a[2]', id(a[2]))\n",
    "print('Address of a[3]', id(a[3]))"
   ]
  },
  {
   "cell_type": "code",
   "execution_count": 10,
   "metadata": {},
   "outputs": [
    {
     "name": "stdout",
     "output_type": "stream",
     "text": [
      "Address of the list a 140153064056704\n",
      "Address of a[0] 140153415205392\n",
      "Address of a[1] 140153415205136\n",
      "Adress of a[2] 140153415205168\n",
      "Address of a[3] 140153415205200\n"
     ]
    }
   ],
   "source": [
    "# If I change the value at a[0], is there any change in the address of the list/ first entry\n",
    "a[0] = 10\n",
    "print('Address of the list a', id(a))\n",
    "print('Address of a[0]', id(a[0]))\n",
    "print('Address of a[1]', id(a[1]))\n",
    "print('Adress of a[2]', id(a[2]))\n",
    "print('Address of a[3]', id(a[3]))\n",
    "# The address of the list is same but address of the first entry changed."
   ]
  },
  {
   "cell_type": "code",
   "execution_count": null,
   "metadata": {},
   "outputs": [],
   "source": []
  }
 ],
 "metadata": {
  "kernelspec": {
   "display_name": "Python 3",
   "language": "python",
   "name": "python3"
  },
  "language_info": {
   "codemirror_mode": {
    "name": "ipython",
    "version": 3
   },
   "file_extension": ".py",
   "mimetype": "text/x-python",
   "name": "python",
   "nbconvert_exporter": "python",
   "pygments_lexer": "ipython3",
   "version": "3.10.12"
  }
 },
 "nbformat": 4,
 "nbformat_minor": 2
}
